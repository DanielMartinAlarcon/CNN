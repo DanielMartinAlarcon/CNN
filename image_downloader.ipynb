{
 "cells": [
  {
   "cell_type": "code",
   "execution_count": 1,
   "metadata": {},
   "outputs": [],
   "source": [
    "from fastai.vision import *"
   ]
  },
  {
   "cell_type": "markdown",
   "metadata": {},
   "source": [
    "Search Google Images for the names of these actresses, in a window without Ad blockers so that pop-ups aren't blocked. Use `Ctrl+Shift+J` (Windows/Linux) or `Cmd+Opt+J` (Mac) to access a Javascript console and run this code to download the URLs of the images found in the image search.\n",
    "\n",
    "```\n",
    "urls = Array.from(document.querySelectorAll('.rg_di .rg_meta')).map(el=>JSON.parse(el.textContent).ou);\n",
    "window.open('data:text/csv;charset=utf-8,' + escape(urls.join('\\n')));\n",
    "```\n",
    "\n",
    "Name each CSV file of URLs with the name of the celebrity, using the same convention as in the array `classes` below, and put them in the folder defined in the variable `path`.  If you're running this notebook on AWS, you'll want to create the CSVs locally and then upload them to your AWS environment."
   ]
  },
  {
   "cell_type": "code",
   "execution_count": 2,
   "metadata": {},
   "outputs": [],
   "source": [
    "celebrities = ['valerie_dominguez',\n",
    "           'sofia_vergara',\n",
    "           'isabella_santo_domingo',\n",
    "           'shakira']\n",
    "\n",
    "# Folder where we'll store celebrity photos\n",
    "path = Path('photos')"
   ]
  },
  {
   "cell_type": "code",
   "execution_count": 3,
   "metadata": {},
   "outputs": [],
   "source": [
    "# Create a new folder for each celebrity, and download 200 images from Google Image Search\n",
    "for name in celebrities:\n",
    "    print(name)\n",
    "    folder = name\n",
    "    file = f'{name}.csv'\n",
    "\n",
    "    dest = path/folder\n",
    "    dest.mkdir(parents=True, exist_ok=True)\n",
    "    download_images(path/file, dest, max_pics=200)"
   ]
  },
  {
   "cell_type": "code",
   "execution_count": 5,
   "metadata": {},
   "outputs": [],
   "source": [
    "# Delete any pictures that can't be opened\n",
    "for c in celebrities:\n",
    "    print(c)\n",
    "    verify_images(path/c, delete=True, max_size=500)"
   ]
  }
 ],
 "metadata": {
  "kernelspec": {
   "display_name": "Python 3",
   "language": "python",
   "name": "python3"
  },
  "language_info": {
   "codemirror_mode": {
    "name": "ipython",
    "version": 3
   },
   "file_extension": ".py",
   "mimetype": "text/x-python",
   "name": "python",
   "nbconvert_exporter": "python",
   "pygments_lexer": "ipython3",
   "version": "3.7.3"
  }
 },
 "nbformat": 4,
 "nbformat_minor": 2
}
